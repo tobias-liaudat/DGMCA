{
 "cells": [
  {
   "cell_type": "code",
   "execution_count": 13,
   "metadata": {},
   "outputs": [],
   "source": [
    "import sys\n",
    "sys.path.append('../')\n",
    "from src.data_input_preparation import data_input_preparation"
   ]
  },
  {
   "cell_type": "code",
   "execution_count": 5,
   "metadata": {},
   "outputs": [
    {
     "name": "stderr",
     "output_type": "stream",
     "text": [
      "/usr/local/lib/python2.7/dist-packages/scipy/signal/_arraytools.py:45: FutureWarning: Using a non-tuple sequence for multidimensional indexing is deprecated; use `arr[tuple(seq)]` instead of `arr[seq]`. In the future this will be interpreted as an array index, `arr[np.array(seq)]`, which will result either in an error or a different result.\n",
      "  b = a[a_slice]\n",
      "/usr/local/lib/python2.7/dist-packages/scipy/signal/signaltools.py:3463: FutureWarning: Using a non-tuple sequence for multidimensional indexing is deprecated; use `arr[tuple(seq)]` instead of `arr[seq]`. In the future this will be interpreted as an array index, `arr[np.array(seq)]`, which will result either in an error or a different result.\n",
      "  return y[sl]\n"
     ]
    },
    {
     "name": "stdout",
     "output_type": "stream",
     "text": [
      "*******************************************\n",
      "Data saving string:\n",
      "../files/data/dataGMCA_decf16_J_2_norm_1_bsize_2048_nobs_250\n",
      "*******************************************\n"
     ]
    }
   ],
   "source": [
    "data = data_input_preparation()"
   ]
  },
  {
   "cell_type": "code",
   "execution_count": null,
   "metadata": {},
   "outputs": [],
   "source": []
  },
  {
   "cell_type": "code",
   "execution_count": null,
   "metadata": {},
   "outputs": [],
   "source": []
  },
  {
   "cell_type": "code",
   "execution_count": 2,
   "metadata": {},
   "outputs": [
    {
     "name": "stderr",
     "output_type": "stream",
     "text": [
      "/usr/local/lib/python2.7/dist-packages/scipy/signal/filter_design.py:1551: BadCoefficients: Badly conditioned filter coefficients (numerator): the results may be meaningless\n",
      "  \"results may be meaningless\", BadCoefficients)\n",
      "/usr/local/lib/python2.7/dist-packages/scipy/signal/_arraytools.py:45: FutureWarning: Using a non-tuple sequence for multidimensional indexing is deprecated; use `arr[tuple(seq)]` instead of `arr[seq]`. In the future this will be interpreted as an array index, `arr[np.array(seq)]`, which will result either in an error or a different result.\n",
      "  b = a[a_slice]\n",
      "/usr/local/lib/python2.7/dist-packages/scipy/signal/signaltools.py:3463: FutureWarning: Using a non-tuple sequence for multidimensional indexing is deprecated; use `arr[tuple(seq)]` instead of `arr[seq]`. In the future this will be interpreted as an array index, `arr[np.array(seq)]`, which will result either in an error or a different result.\n",
      "  return y[sl]\n"
     ]
    },
    {
     "name": "stdout",
     "output_type": "stream",
     "text": [
      "*******************************************\n",
      "Data saving string:\n",
      "../files/data/dataGMCA_decf64_J_2_norm_1_bsize_1024_nobs_250\n",
      "*******************************************\n"
     ]
    }
   ],
   "source": [
    "import sys\n",
    "sys.path.append('../')\n",
    "import numpy as np\n",
    "from src.utils2 import divisorGenerator\n",
    "from src.utils2 import Make_Experiment_GG\n",
    "from src.misc_bgmca2 import *\n",
    "from src.DGMCA import DGMCA as dgmca\n",
    "from src.GMCA import GMCA as gmca\n",
    "from src.data_input_preparation import data_input_preparation\n",
    "import copy as cp\n",
    "from tqdm import tqdm\n",
    "import time\n",
    "\n",
    "input_data_path = '../files/input_data/'\n",
    "data_path = '../files/data/'\n",
    "plots_path = '../files/plots/'\n",
    "\n",
    "\n",
    "Jdec = 2\n",
    "dec_factor = 64\n",
    "batch_size = 1024\n",
    "n_s = 5 # Number of sources\n",
    "n_obs = 250 # Number of observations\n",
    "SNR_level = 60.0\n",
    "normOpt = 1\n",
    "alpha_init = 2. # Alpha parameter for the thresholding strategy\n",
    "numIts = 1\n",
    "\n",
    "data_DGMCA = data_input_preparation(Jdec=Jdec, dec_factor=dec_factor, batch_size=batch_size, n_obs=n_obs, SNR_level=SNR_level, normOpt=normOpt,\\\n",
    "    input_data_path=input_data_path, output_data_path=data_path)\n"
   ]
  },
  {
   "cell_type": "code",
   "execution_count": 3,
   "metadata": {},
   "outputs": [
    {
     "ename": "TypeError",
     "evalue": "'int' object has no attribute '__getitem__'",
     "output_type": "error",
     "traceback": [
      "\u001b[0;31m---------------------------------------------------------------------------\u001b[0m",
      "\u001b[0;31mTypeError\u001b[0m                                 Traceback (most recent call last)",
      "\u001b[0;32m<ipython-input-3-daf53d35ade2>\u001b[0m in \u001b[0;36m<module>\u001b[0;34m()\u001b[0m\n\u001b[1;32m      6\u001b[0m \u001b[0mS0_GMCA\u001b[0m \u001b[0;34m=\u001b[0m \u001b[0mdata_DGMCA\u001b[0m\u001b[0;34m[\u001b[0m\u001b[0;34m'S0_GMCA'\u001b[0m\u001b[0;34m]\u001b[0m\u001b[0;34m\u001b[0m\u001b[0m\n\u001b[1;32m      7\u001b[0m \u001b[0msizeBlock\u001b[0m \u001b[0;34m=\u001b[0m \u001b[0mbatch_size\u001b[0m\u001b[0;34m\u001b[0m\u001b[0m\n\u001b[0;32m----> 8\u001b[0;31m \u001b[0mn_s\u001b[0m \u001b[0;34m=\u001b[0m \u001b[0mdata_DGMCA\u001b[0m\u001b[0;34m[\u001b[0m\u001b[0;34m'n_s'\u001b[0m\u001b[0;34m]\u001b[0m\u001b[0;34m[\u001b[0m\u001b[0;36m0\u001b[0m\u001b[0;34m,\u001b[0m\u001b[0;36m0\u001b[0m\u001b[0;34m]\u001b[0m\u001b[0;34m\u001b[0m\u001b[0m\n\u001b[0m\u001b[1;32m      9\u001b[0m \u001b[0mWNFactors\u001b[0m \u001b[0;34m=\u001b[0m \u001b[0mdata_DGMCA\u001b[0m\u001b[0;34m[\u001b[0m\u001b[0;34m'WNFactors'\u001b[0m\u001b[0;34m]\u001b[0m\u001b[0;34m[\u001b[0m\u001b[0;36m0\u001b[0m\u001b[0;34m]\u001b[0m\u001b[0;34m\u001b[0m\u001b[0m\n\u001b[1;32m     10\u001b[0m \u001b[0mX0_GMCA\u001b[0m \u001b[0;34m=\u001b[0m \u001b[0mdata_DGMCA\u001b[0m\u001b[0;34m[\u001b[0m\u001b[0;34m'X0'\u001b[0m\u001b[0;34m]\u001b[0m\u001b[0;34m\u001b[0m\u001b[0m\n",
      "\u001b[0;31mTypeError\u001b[0m: 'int' object has no attribute '__getitem__'"
     ]
    }
   ],
   "source": [
    "# Extract the variables\n",
    "X = data_DGMCA['X']\n",
    "A0 = data_DGMCA['A0']\n",
    "S0 = data_DGMCA['S0']\n",
    "X_GMCA = data_DGMCA['X_GMCA']\n",
    "S0_GMCA = data_DGMCA['S0_GMCA']\n",
    "sizeBlock = batch_size\n",
    "n_s = data_DGMCA['n_s'][0,0]\n",
    "WNFactors = data_DGMCA['WNFactors'][0]\n",
    "X0_GMCA = data_DGMCA['X0']\n",
    "normOpt = data_DGMCA['normOpt'] \n",
    "totalSize = X.shape[1] "
   ]
  },
  {
   "cell_type": "code",
   "execution_count": 8,
   "metadata": {},
   "outputs": [
    {
     "data": {
      "text/plain": [
       "array([4.16470412e-08, 5.05267988e-09, 5.49415421e-09, 3.55299056e-09,\n",
       "       1.84950920e-09])"
      ]
     },
     "execution_count": 8,
     "metadata": {},
     "output_type": "execute_result"
    }
   ],
   "source": [
    "data_DGMCA['WNFactors']"
   ]
  },
  {
   "cell_type": "code",
   "execution_count": null,
   "metadata": {},
   "outputs": [],
   "source": []
  },
  {
   "cell_type": "code",
   "execution_count": null,
   "metadata": {},
   "outputs": [],
   "source": []
  },
  {
   "cell_type": "code",
   "execution_count": null,
   "metadata": {},
   "outputs": [],
   "source": []
  },
  {
   "cell_type": "code",
   "execution_count": null,
   "metadata": {},
   "outputs": [],
   "source": []
  },
  {
   "cell_type": "code",
   "execution_count": null,
   "metadata": {},
   "outputs": [],
   "source": []
  },
  {
   "cell_type": "code",
   "execution_count": null,
   "metadata": {},
   "outputs": [],
   "source": []
  }
 ],
 "metadata": {
  "kernelspec": {
   "display_name": "Python 2",
   "language": "python",
   "name": "python2"
  },
  "language_info": {
   "codemirror_mode": {
    "name": "ipython",
    "version": 2
   },
   "file_extension": ".py",
   "mimetype": "text/x-python",
   "name": "python",
   "nbconvert_exporter": "python",
   "pygments_lexer": "ipython2",
   "version": "2.7.12"
  }
 },
 "nbformat": 4,
 "nbformat_minor": 2
}
