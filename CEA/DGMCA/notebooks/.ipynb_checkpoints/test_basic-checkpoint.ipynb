{
 "cells": [
  {
   "cell_type": "markdown",
   "metadata": {},
   "source": [
    "## Test basic\n",
    "\n",
    "Using the DGMCA code with different batch sizes and comparing its performance with the original GMCA.\n",
    "\n",
    "- The data used for the simulation is generated following a Generalized Gaussian model of parameter *rho*. \n",
    "- Results are stored in *data_path*\n",
    "- Plots are saved in *plots_path*"
   ]
  },
  {
   "cell_type": "code",
   "execution_count": 17,
   "metadata": {},
   "outputs": [],
   "source": [
    "import sys\n",
    "sys.path.append('../')\n",
    "import numpy as np\n",
    "import matplotlib.pyplot as plt\n",
    "import matplotlib\n",
    "from src.utils2 import divisorGenerator\n",
    "from src.utils2 import Make_Experiment_GG\n",
    "from src.misc_bgmca2 import *\n",
    "from src.DGMCA import DGMCA as dgmca\n",
    "from src.GMCA import GMCA as gmca\n",
    "import copy as cp\n",
    "from tqdm import tqdm\n",
    "import time"
   ]
  },
  {
   "cell_type": "markdown",
   "metadata": {},
   "source": [
    "### Variable definitions"
   ]
  },
  {
   "cell_type": "code",
   "execution_count": 4,
   "metadata": {},
   "outputs": [
    {
     "name": "stdout",
     "output_type": "stream",
     "text": [
      "*******************************************\n",
      "totalSize: 4000\n",
      "divisors: [200 400 600]\n",
      "numIts: 4\n",
      "rho: 0.5\n",
      "alpha_init: 2.0\n",
      "n_s: 5\n",
      "n_obs: 20\n",
      "*******************************************\n",
      "Test saving name:\n",
      "test_basic__totalSize_4000_numDivisors_3_n_obs_20_n_s_5_numIts_4\n",
      "*******************************************\n"
     ]
    }
   ],
   "source": [
    "data_path = 'data/'\n",
    "plots_path = 'plots/'\n",
    "\n",
    "totalSize = 4000 # Number of samples for each observation/source\n",
    "\n",
    "# For the batch sizes: Use all the divisors of totalSize bigger than minSizeBlock\n",
    "# Or you can define the list manually by changing the array: divisors\n",
    "minSizeBlock = 500\n",
    "divisors = list(divisorGenerator(totalSize))\n",
    "divisors = np.array(divisors)\n",
    "divisors = divisors[divisors>=minSizeBlock]\n",
    "\n",
    "# Define your own list of batch sizes\n",
    "divisors = np.array([200, 400, 600])# 200, 250 ,400, 500, 1000, 2500])\n",
    "\n",
    "n_s = 5 # Number of sources\n",
    "n_obs = 20 # Number of observations\n",
    "rho = 0.5 # Generalized Gaussian generation parameter\n",
    "alpha_init = 2. # Alpha parameter for the thresholding strategy\n",
    "\n",
    "numIts = 4\n",
    "\n",
    "CA_DGMCA = np.zeros([2,len(divisors),numIts])\n",
    "CA_GMCA = np.zeros([2,numIts])\n",
    "time_GMCA = np.zeros([numIts])\n",
    "time_DGMCA = np.zeros([len(divisors),numIts])\n",
    "\n",
    "\n",
    "# Recapitulative of the chosen parameters\n",
    "\n",
    "print('*******************************************')\n",
    "print('totalSize: ' + str(totalSize))\n",
    "print('divisors: ' + str(divisors))\n",
    "print('numIts: ' + str(numIts))\n",
    "print('rho: ' + str(rho))\n",
    "print('alpha_init: ' + str(alpha_init))\n",
    "print('n_s: ' + str(n_s))\n",
    "print('n_obs: ' + str(n_obs))\n",
    "print('*******************************************')\n",
    "\n",
    "# Define the saving name for the results\n",
    "title_str = \"test_basic_\" + \"_totalSize_\" + str(totalSize) + \"_numDivisors_\" + str(len(divisors))+ \"_n_obs_\" + str(n_obs) \\\n",
    "    + \"_n_s_\" + str(n_s) + \"_numIts_\" + str(numIts)\n",
    "\n",
    "print(\"Test saving name:\")\n",
    "print(title_str)\n",
    "print('*******************************************')"
   ]
  },
  {
   "cell_type": "markdown",
   "metadata": {},
   "source": [
    "### Main loop\n",
    "\n",
    "Depending on the chosen parameters it may take some time.\n",
    "\n",
    "- First loop repeating experiments.\n",
    "- Second loop on the batch sizes"
   ]
  },
  {
   "cell_type": "code",
   "execution_count": 5,
   "metadata": {},
   "outputs": [
    {
     "name": "stderr",
     "output_type": "stream",
     "text": [
      " 25%|██▌       | 1/4 [00:17<00:51, 17.24s/it]"
     ]
    },
    {
     "name": "stdout",
     "output_type": "stream",
     "text": [
      "WARNING, PSEUDO INVERSE TO CORRECT PERMUTATIONS\n",
      "WARNING, PSEUDO INVERSE TO CORRECT PERMUTATIONS\n",
      "WARNING, PSEUDO INVERSE TO CORRECT PERMUTATIONS\n",
      "WARNING, PSEUDO INVERSE TO CORRECT PERMUTATIONS\n",
      "WARNING, PSEUDO INVERSE TO CORRECT PERMUTATIONS\n",
      "WARNING, PSEUDO INVERSE TO CORRECT PERMUTATIONS\n",
      "WARNING, PSEUDO INVERSE TO CORRECT PERMUTATIONS\n",
      "WARNING, PSEUDO INVERSE TO CORRECT PERMUTATIONS\n",
      "WARNING, PSEUDO INVERSE TO CORRECT PERMUTATIONS\n",
      "WARNING, PSEUDO INVERSE TO CORRECT PERMUTATIONS\n",
      "WARNING, PSEUDO INVERSE TO CORRECT PERMUTATIONS\n",
      "WARNING, PSEUDO INVERSE TO CORRECT PERMUTATIONS\n",
      "WARNING, PSEUDO INVERSE TO CORRECT PERMUTATIONS\n",
      "WARNING, PSEUDO INVERSE TO CORRECT PERMUTATIONS\n",
      "WARNING, PSEUDO INVERSE TO CORRECT PERMUTATIONS\n",
      "WARNING, PSEUDO INVERSE TO CORRECT PERMUTATIONS\n",
      "WARNING, PSEUDO INVERSE TO CORRECT PERMUTATIONS\n",
      "WARNING, PSEUDO INVERSE TO CORRECT PERMUTATIONS\n",
      "WARNING, PSEUDO INVERSE TO CORRECT PERMUTATIONS\n",
      "WARNING, PSEUDO INVERSE TO CORRECT PERMUTATIONS\n",
      "WARNING, PSEUDO INVERSE TO CORRECT PERMUTATIONS\n",
      "WARNING, PSEUDO INVERSE TO CORRECT PERMUTATIONS\n",
      "WARNING, PSEUDO INVERSE TO CORRECT PERMUTATIONS\n",
      "WARNING, PSEUDO INVERSE TO CORRECT PERMUTATIONS\n",
      "WARNING, PSEUDO INVERSE TO CORRECT PERMUTATIONS\n",
      "WARNING, PSEUDO INVERSE TO CORRECT PERMUTATIONS\n",
      "WARNING, PSEUDO INVERSE TO CORRECT PERMUTATIONS\n",
      "WARNING, PSEUDO INVERSE TO CORRECT PERMUTATIONS\n",
      "WARNING, PSEUDO INVERSE TO CORRECT PERMUTATIONS\n",
      "WARNING, PSEUDO INVERSE TO CORRECT PERMUTATIONS\n",
      "WARNING, PSEUDO INVERSE TO CORRECT PERMUTATIONS\n",
      "WARNING, PSEUDO INVERSE TO CORRECT PERMUTATIONS\n",
      "WARNING, PSEUDO INVERSE TO CORRECT PERMUTATIONS\n",
      "WARNING, PSEUDO INVERSE TO CORRECT PERMUTATIONS\n",
      "WARNING, PSEUDO INVERSE TO CORRECT PERMUTATIONS\n",
      "WARNING, PSEUDO INVERSE TO CORRECT PERMUTATIONS\n",
      "WARNING, PSEUDO INVERSE TO CORRECT PERMUTATIONS\n",
      "WARNING, PSEUDO INVERSE TO CORRECT PERMUTATIONS\n",
      "WARNING, PSEUDO INVERSE TO CORRECT PERMUTATIONS\n",
      "WARNING, PSEUDO INVERSE TO CORRECT PERMUTATIONS\n"
     ]
    },
    {
     "name": "stderr",
     "output_type": "stream",
     "text": [
      "100%|██████████| 4/4 [01:11<00:00, 17.62s/it]\n"
     ]
    }
   ],
   "source": [
    "for it_n in tqdm(range(numIts)):\n",
    "\n",
    "    X,X0,A0,S0,N = Make_Experiment_GG(n_s=n_s,n_obs=n_obs,t_samp=totalSize,noise_level=60.0,\\\n",
    "                                      dynamic=0,CondNumber=1,alpha=rho)\n",
    "    time1 = time.time()\n",
    "    Results_sB_totSC = gmca(cp.deepcopy(X),n=n_s,maxts = 7,mints=3,nmax=100,L0=1,UseP=1,verb=0,Init=0,\\\n",
    "                Aposit=False,BlockSize= None,NoiseStd=[],IndNoise=[],Kmax=1.,AInit=None,tol=1e-6,threshOpt=1\\\n",
    "                ,SCOpt=1)\n",
    "    time_GMCA[it_n] = time.time() - time1\n",
    "    A_sB_totSC = Results_sB_totSC['mixmat']\n",
    "    S_sB_totSC = Results_sB_totSC['sources']\n",
    "    crit_sB_totSC = EvalCriterion_eval(A0,S0,A_sB_totSC,S_sB_totSC) \n",
    "    CA_GMCA[0,it_n] = crit_sB_totSC['ca_mean']\n",
    "    CA_GMCA[1,it_n] = crit_sB_totSC['ca_med']\n",
    "\n",
    "\n",
    "    for it1 in range(len(divisors)):\n",
    "\n",
    "        numBlock = totalSize/divisors[it1]\n",
    "        sizeBlock = divisors[it1]\n",
    "\n",
    "        time1 = time.time()\n",
    "        Results_sB0 = dgmca(cp.deepcopy(X),n=n_s,mints=3,nmax=100,L0=1,verb=0,Init=0,\\\n",
    "                            BlockSize= None,Kmax=1.,AInit=None,tol=1e-6,subBlockSize=sizeBlock,\\\n",
    "                            SCOpt=1,alphaEstOpt=1,alpha_exp=alpha_init)\n",
    "        time_DGMCA[it1,it_n] = time.time() - time1\n",
    "        A_sB0 = Results_sB0['mixmat']\n",
    "        S_sB0 = Results_sB0['sources']\n",
    "        crit_sB0 = EvalCriterion_eval(A0,S0,A_sB0,S_sB0) \n",
    "        CA_DGMCA[0,it1,it_n] = crit_sB0['ca_mean']\n",
    "        CA_DGMCA[1,it1,it_n] = crit_sB0['ca_med']\n"
   ]
  },
  {
   "cell_type": "markdown",
   "metadata": {},
   "source": [
    "### Preparing the results"
   ]
  },
  {
   "cell_type": "code",
   "execution_count": 6,
   "metadata": {},
   "outputs": [],
   "source": [
    "# Some calculations to print afterwards\n",
    "time_GMCA_mean = np.mean(time_GMCA,axis=0)\n",
    "time_GMCA_total = np.sum(time_GMCA, axis=0)\n",
    "\n",
    "time_DGMCA_mean = np.mean(time_DGMCA,axis=1)\n",
    "time_DGMCA_mean = np.mean(time_DGMCA_mean)\n",
    "time_DGMCA_total = np.sum(time_DGMCA, axis=1)\n",
    "time_DGMCA_total = np.sum(time_DGMCA_total)\n",
    "\n",
    "CA_GMCA_mean = np.mean(CA_GMCA,axis=1)\n",
    "CA_DGMCA_mean = np.mean(CA_DGMCA,axis=2)\n",
    "CA_GMCA_med = np.median(CA_GMCA,axis=1)\n",
    "CA_DGMCA_med = np.median(CA_DGMCA,axis=2)\n",
    "\n",
    "dB_CA_GMCA_mean = -10*np.log10(CA_GMCA_mean)\n",
    "dB_CA_DGMCA_mean = -10*np.log10(CA_DGMCA_mean)\n",
    "dB_CA_GMCA_med = -10*np.log10(CA_GMCA_med)\n",
    "dB_CA_DGMCA_med = -10*np.log10(CA_DGMCA_med)"
   ]
  },
  {
   "cell_type": "markdown",
   "metadata": {},
   "source": [
    "### Printing results"
   ]
  },
  {
   "cell_type": "code",
   "execution_count": 8,
   "metadata": {},
   "outputs": [
    {
     "name": "stdout",
     "output_type": "stream",
     "text": [
      " \n",
      "******************* Results ************************\n",
      "GMCA [CA(dB)]            / DGMCA [CA(dB)]\n",
      "GMCA mean time:  0.522650  / DGMCA mean time:  5.708152\n",
      "GMCA total time: 2.090599  / DGMCA total time: 68.497824\n",
      " \n",
      "**************** MEAN of experiments ***************************\n",
      "Total size = 4000, CA_GMCA(med) = 23.115809,  CA_GMCA(mean) = 21.130262 ;\n",
      "*******************************************\n",
      "Batch size = 200, CA_DGMCA(med) = 23.827946,  CA_DGMCA(mean) = 21.234809 ;\n",
      "Batch size = 400, CA_DGMCA(med) = 23.411334,  CA_DGMCA(mean) = 21.322029 ;\n",
      "Batch size = 600, CA_DGMCA(med) = 23.551087,  CA_DGMCA(mean) = 21.202718 ;\n",
      "*******************************************\n",
      " \n",
      "**************** MEDIAN of experiments ***************************\n",
      "Total size = 4000, CA_GMCA(med) = 23.051558,  CA_GMCA(mean) = 20.742791 ;\n",
      "*******************************************\n",
      "Batch size = 200, CA_DGMCA(med) = 23.825650,  CA_DGMCA(mean) = 20.954641 ;\n",
      "Batch size = 400, CA_DGMCA(med) = 24.249839,  CA_DGMCA(mean) = 20.996658 ;\n",
      "Batch size = 600, CA_DGMCA(med) = 23.835050,  CA_DGMCA(mean) = 20.869791 ;\n",
      "*******************************************\n",
      " \n"
     ]
    }
   ],
   "source": [
    "# Printing the results nicely\n",
    "print(' ')\n",
    "print('******************* Results ************************')\n",
    "print('GMCA [CA(dB)]            / DGMCA [CA(dB)]')\n",
    "print('GMCA mean time:  %f  / DGMCA mean time:  %f'%(time_GMCA_mean,time_DGMCA_mean))\n",
    "print('GMCA total time: %f  / DGMCA total time: %f'%(time_GMCA_total,time_DGMCA_total))\n",
    "print(' ')\n",
    "print('**************** MEAN of experiments ***************************')\n",
    "print('Total size = %d, CA_GMCA(med) = %f,  CA_GMCA(mean) = %f ;'%(totalSize,dB_CA_GMCA_mean[1],dB_CA_GMCA_mean[0]))\n",
    "print('*******************************************')\n",
    "for it in range(len(divisors)):\n",
    "    print('Batch size = %d, CA_DGMCA(med) = %f,  CA_DGMCA(mean) = %f ;'%(divisors[it],dB_CA_DGMCA_mean[1,it],dB_CA_DGMCA_mean[0,it]))\n",
    "print('*******************************************')\n",
    "print(' ')\n",
    "print('**************** MEDIAN of experiments ***************************')\n",
    "print('Total size = %d, CA_GMCA(med) = %f,  CA_GMCA(mean) = %f ;'%(totalSize,dB_CA_GMCA_med[1],dB_CA_GMCA_med[0]))\n",
    "print('*******************************************')\n",
    "for it in range(len(divisors)):\n",
    "    print('Batch size = %d, CA_DGMCA(med) = %f,  CA_DGMCA(mean) = %f ;'%(divisors[it],dB_CA_DGMCA_med[1,it],dB_CA_DGMCA_med[0,it]))\n",
    "print('*******************************************')\n",
    "print(' ')"
   ]
  },
  {
   "cell_type": "markdown",
   "metadata": {},
   "source": [
    "### Saving variables"
   ]
  },
  {
   "cell_type": "code",
   "execution_count": 9,
   "metadata": {},
   "outputs": [],
   "source": [
    "# Save variables\n",
    "title_CA_DGMCA = data_path + 'CA_DGMCA' + title_str  \n",
    "np.save(title_CA_DGMCA,CA_DGMCA)\n",
    "title_CA_GMCA = data_path + 'CA_GMCA' + title_str  \n",
    "np.save(title_CA_GMCA,CA_GMCA)"
   ]
  },
  {
   "cell_type": "markdown",
   "metadata": {},
   "source": [
    "## Plot results nicely\n",
    "\n",
    "Even though the results are already available they will be imported from the data folder."
   ]
  },
  {
   "cell_type": "code",
   "execution_count": 19,
   "metadata": {},
   "outputs": [],
   "source": [
    "# Import names\n",
    "ext = '.npy'\n",
    "\n",
    "imp_CA_GMCA = np.load(title_CA_GMCA + ext)\n",
    "imp_CA_DGMCA = np.load(title_CA_DGMCA + ext)\n",
    "\n",
    "# Mean over the experiments\n",
    "imp_CA_GMCA = np.mean(imp_CA_GMCA,axis=1) # Over the batch sizes\n",
    "imp_CA_DGMCA = np.mean(imp_CA_DGMCA,axis=2) # Over the iterations\n",
    "\n",
    "# To dB\n",
    "log_imp_CA_GMCA = -10*np.log10(imp_CA_GMCA)\n",
    "log_imp_CA_DGMCA = -10*np.log10(imp_CA_DGMCA)"
   ]
  },
  {
   "cell_type": "code",
   "execution_count": 24,
   "metadata": {},
   "outputs": [
    {
     "data": {
      "image/png": "[encoded data removed]",
      "text/plain": [
       "<Figure size 1440x960 with 1 Axes>"
      ]
     },
     "metadata": {},
     "output_type": "display_data"
    }
   ],
   "source": [
    "# Use the mean or the median over the CA \n",
    "type_ca = 0 # 0 = CA_mean // 1 = CA_median\n",
    "\n",
    "matplotlib.rcParams.update({'font.size': 23})\n",
    "fig=plt.figure(figsize=(18, 12), dpi= 80, facecolor='w', edgecolor='k')\n",
    "plt.rc('text', usetex=True)\n",
    "\n",
    "plt.plot(divisors, log_imp_CA_GMCA[type_ca]*np.ones(len(divisors)), '-.', label=r'GMCA')\n",
    "plt.plot(divisors, log_imp_CA_DGMCA[type_ca,:], '-o', label=r'DGMCA')\n",
    "\n",
    "plt.xlabel('Batch size')\n",
    "if type_ca == 0:\n",
    "    plt.ylabel(r'$C_{A,mean}(dB)$')\n",
    "elif type_ca == 1:\n",
    "    plt.ylabel(r'$C_{A,med}(dB)$')\n",
    "plt.grid()\n",
    "plt.legend()\n",
    "plt.show()\n",
    "\n",
    "title_str_pdf = plots_path + title_str + \".pdf\"\n",
    "fig.savefig(title_str_pdf, bbox_inches='tight')"
   ]
  },
  {
   "cell_type": "code",
   "execution_count": null,
   "metadata": {},
   "outputs": [],
   "source": []
  },
  {
   "cell_type": "code",
   "execution_count": null,
   "metadata": {},
   "outputs": [],
   "source": []
  },
  {
   "cell_type": "code",
   "execution_count": null,
   "metadata": {},
   "outputs": [],
   "source": []
  },
  {
   "cell_type": "code",
   "execution_count": null,
   "metadata": {},
   "outputs": [],
   "source": []
  },
  {
   "cell_type": "code",
   "execution_count": null,
   "metadata": {},
   "outputs": [],
   "source": []
  },
  {
   "cell_type": "code",
   "execution_count": null,
   "metadata": {},
   "outputs": [],
   "source": []
  },
  {
   "cell_type": "code",
   "execution_count": null,
   "metadata": {},
   "outputs": [],
   "source": []
  },
  {
   "cell_type": "code",
   "execution_count": null,
   "metadata": {},
   "outputs": [],
   "source": []
  },
  {
   "cell_type": "code",
   "execution_count": null,
   "metadata": {},
   "outputs": [],
   "source": []
  },
  {
   "cell_type": "code",
   "execution_count": null,
   "metadata": {},
   "outputs": [],
   "source": []
  }
 ],
 "metadata": {
  "kernelspec": {
   "display_name": "Python 2",
   "language": "python",
   "name": "python2"
  },
  "language_info": {
   "codemirror_mode": {
    "name": "ipython",
    "version": 2
   },
   "file_extension": ".py",
   "mimetype": "text/x-python",
   "name": "python",
   "nbconvert_exporter": "python",
   "pygments_lexer": "ipython2",
   "version": "2.7.12"
  }
 },
 "nbformat": 4,
 "nbformat_minor": 2
}
