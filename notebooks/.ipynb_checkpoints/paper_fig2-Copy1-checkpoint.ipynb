{
 "cells": [
  {
   "cell_type": "markdown",
   "metadata": {},
   "source": [
    "# Numerical experiments"
   ]
  },
  {
   "cell_type": "code",
   "execution_count": 1,
   "metadata": {},
   "outputs": [],
   "source": [
    "import sys\n",
    "sys.path.append('../')\n",
    "import numpy as np\n",
    "import matplotlib.pyplot as plt\n",
    "import matplotlib\n",
    "import spams\n",
    "from PIL import Image\n",
    "from src.utils_dgmca import divisorGenerator\n",
    "from src.utils_dgmca import Make_Experiment_GG\n",
    "from src.utils_dgmca import mad\n",
    "from src.misc_dgmca import *\n",
    "from src.DGMCA import DGMCA as dgmca\n",
    "from src.DGMCA_euclidean import DGMCA_euclidean\n",
    "from src.GMCA import GMCA as gmca\n",
    "import copy as cp\n",
    "from tqdm import tqdm\n",
    "import time"
   ]
  },
  {
   "cell_type": "code",
   "execution_count": 26,
   "metadata": {},
   "outputs": [
    {
     "name": "stdout",
     "output_type": "stream",
     "text": [
      "*******************************************\n",
      "totalSize: 4000\n",
      "divisors: [ 10  20  50 100 500]\n",
      "numIts: 1\n",
      "rho: 0.5\n",
      "alpha_init: 0.5\n",
      "n_s: 10\n",
      "n_obs: 50\n",
      "*******************************************\n",
      "Test saving name:\n",
      "test_basic__totalSize_4000_numDivisors_5_n_obs_50_n_s_10_numIts_1\n",
      "*******************************************\n"
     ]
    }
   ],
   "source": [
    "data_path = 'data/'\n",
    "plots_path = 'plots/'\n",
    "\n",
    "totalSize = 4000 #10000 # Number of samples for each observation/source\n",
    "\n",
    "# For the batch sizes: Use all the divisors of totalSize bigger than minSizeBlock\n",
    "# Or you can define the list manually by changing the array: divisors\n",
    "minSizeBlock = 20\n",
    "divisors = list(divisorGenerator(totalSize))\n",
    "divisors = np.array(divisors)\n",
    "divisors = divisors[divisors>=minSizeBlock]\n",
    "\n",
    "# Define your own list of batch sizes\n",
    "#divisors = np.array([  20])\n",
    "#divisors = np.array([  50, 100, 200,  500, 1000])\n",
    "#divisors = np.array([  10, 20, 50, 100, 200,  400,   500,   1000])\n",
    "divisors = np.array([10, 20,  50, 100, 500])\n",
    "#divisors = np.array([  100,   125,   200,   250,   400,   500,   625,  1000,  1250, 2000, 2500])\n",
    "\n",
    "\n",
    "n_s = 10 # Number of sources\n",
    "n_obs = 50 # Number of observations\n",
    "rho = 0.5 # Generalized Gaussian generation parameter\n",
    "alpha_init = 0.5 # Alpha parameter for the thresholding strategy\n",
    "\n",
    "numIts = 1 # Number of repetitions of the experiment\n",
    "\n",
    "CA_DGMCA = np.zeros([2,len(divisors),numIts])\n",
    "CA_DGMCA_naive = np.zeros([2,len(divisors),numIts])\n",
    "CA_DGMCA_euclidean = np.zeros([2,len(divisors),numIts])\n",
    "CA_ODL = np.zeros([2,len(divisors),numIts])\n",
    "CA_GMCA = np.zeros([2,numIts])\n",
    "time_GMCA = np.zeros([numIts])\n",
    "time_DGMCA = np.zeros([len(divisors),numIts])\n",
    "time_DGMCA_naive = np.zeros([len(divisors),numIts])\n",
    "time_DGMCA_euclidean = np.zeros([len(divisors),numIts])\n",
    "time_ODL = np.zeros([len(divisors),numIts])\n",
    "\n",
    "cnt_zeros = 0\n",
    "\n",
    "# Recapitulative of the chosen parameters\n",
    "print('*******************************************')\n",
    "print('totalSize: ' + str(totalSize))\n",
    "print('divisors: ' + str(divisors))\n",
    "print('numIts: ' + str(numIts))\n",
    "print('rho: ' + str(rho))\n",
    "print('alpha_init: ' + str(alpha_init))\n",
    "print('n_s: ' + str(n_s))\n",
    "print('n_obs: ' + str(n_obs))\n",
    "print('*******************************************')\n",
    "\n",
    "# Define the saving name for the results\n",
    "title_str = \"test_basic_\" + \"_totalSize_\" + str(totalSize) + \"_numDivisors_\" + str(len(divisors))+ \"_n_obs_\" + str(n_obs) \\\n",
    "    + \"_n_s_\" + str(n_s) + \"_numIts_\" + str(numIts)\n",
    "\n",
    "print(\"Test saving name:\")\n",
    "print(title_str)\n",
    "print('*******************************************')"
   ]
  },
  {
   "cell_type": "code",
   "execution_count": 27,
   "metadata": {},
   "outputs": [],
   "source": [
    "def DGMCA_naive(X,n_s,sizeBlock,A0):\n",
    "    \n",
    "    m = X.shape[0]\n",
    "    t = X.shape[1]\n",
    "    n_blocks = np.floor(t/sizeBlock).astype(int)\n",
    "    \n",
    "    A_block = np.zeros([m,n_s,n_blocks])\n",
    "    S_hat = np.zeros([n_s,n_blocks*sizeBlock])\n",
    "    w_FM = np.zeros([n_s,n_blocks])\n",
    "    \n",
    "    # Solve each block with the GMCA algorithm\n",
    "    for it in range(n_blocks):\n",
    "        \n",
    "        X_mini = X[:,it*sizeBlock:(it+1)*sizeBlock]\n",
    "        result = gmca(X_mini,n=n_s,maxts = 7,mints=3,nmax=100,L0=1,UseP=1,verb=0,Init=0,\\\n",
    "            Aposit=False,BlockSize= None,NoiseStd=[],IndNoise=[],Kmax=1.,AInit=None,tol=1e-6,threshOpt=1\\\n",
    "            ,SCOpt=1)\n",
    "        A_mini = result['mixmat']\n",
    "        S_mini = result['sources']\n",
    "        \n",
    "        A_block[:,:,it] = A_mini\n",
    "        S_hat[:,it*sizeBlock:(it+1)*sizeBlock] = S_mini\n",
    "        \n",
    "        Ra = np.dot(A_mini.T,A_mini)\n",
    "        Ua,Sa,Va = np.linalg.svd(Ra)\n",
    "        Sa[Sa < np.max(Sa)*1e-9] = np.max(Sa)*1e-9\n",
    "        iRa = np.dot(Va.T,np.dot(np.diag(1./Sa),Ua.T))\n",
    "        piA = np.dot(iRa,A_mini.T)\n",
    "        \n",
    "        piA_normF2 = np.sum(np.diag(np.dot(piA.T,piA)))\n",
    "        sigma_X_j = mad(X_mini)*1.\n",
    "        \n",
    "        for it2 in range(n_s):\n",
    "            St = S_mini[it2,:]\n",
    "            w_FM[it2,it] = np.sum(St**2)/((len(St)*1.)*(sigma_X_j*piA_normF2))\n",
    "        \n",
    "        \n",
    "    # Aggregate the different A matrices\n",
    "    Aref = A_block[:,:,0] # A0 \n",
    "    A_mean = DGMCA_FrechetMean(As = A_block, Aref = Aref, w = w_FM)\n",
    "    \n",
    "    return A_mean, S_hat\n",
    "    "
   ]
  },
  {
   "cell_type": "code",
   "execution_count": 28,
   "metadata": {
    "scrolled": true
   },
   "outputs": [
    {
     "name": "stderr",
     "output_type": "stream",
     "text": [
      "  0%|          | 0/1 [00:00<?, ?it/s]/usr/local/lib/python2.7/dist-packages/ipykernel_launcher.py:19: ComplexWarning: Casting complex values to real discards the imaginary part\n",
      "/usr/local/lib/python2.7/dist-packages/ipykernel_launcher.py:20: ComplexWarning: Casting complex values to real discards the imaginary part\n",
      "/usr/local/lib/python2.7/dist-packages/ipykernel_launcher.py:33: ComplexWarning: Casting complex values to real discards the imaginary part\n",
      "100%|██████████| 1/1 [21:46<00:00, 1306.67s/it]\n"
     ]
    }
   ],
   "source": [
    "for it_n in tqdm(range(numIts)):\n",
    "\n",
    "    X,X0,A0,S0,N = Make_Experiment_GG(n_s=n_s,n_obs=n_obs,t_samp=totalSize,noise_level=10.0,\\\n",
    "                                      dynamic=0,CondNumber=10,alpha=rho)\n",
    "    \n",
    "    X_ODL = np.asfortranarray(cp.deepcopy(X))\n",
    "    \n",
    "    time1 = time.time()\n",
    "    Results_sB_totSC = gmca(cp.deepcopy(X),n=n_s,maxts = 7,mints=3,nmax=100,L0=1,UseP=1,verb=0,Init=0,\\\n",
    "                Aposit=False,BlockSize= None,NoiseStd=[],IndNoise=[],Kmax=1.,AInit=None,tol=1e-6,threshOpt=1\\\n",
    "                ,SCOpt=1)\n",
    "    time_GMCA[it_n] = time.time() - time1\n",
    "    A_sB_totSC = Results_sB_totSC['mixmat']\n",
    "    S_sB_totSC = Results_sB_totSC['sources']\n",
    "    crit_sB_totSC = EvalCriterion_eval(A0,S0,A_sB_totSC,S_sB_totSC) \n",
    "    CA_GMCA[0,it_n] = crit_sB_totSC['ca_mean']\n",
    "    CA_GMCA[1,it_n] = crit_sB_totSC['ca_med']\n",
    "\n",
    "\n",
    "    for it1 in range(len(divisors)):\n",
    "\n",
    "        numBlock = totalSize/divisors[it1]\n",
    "        sizeBlock = divisors[it1]\n",
    "        \n",
    "        # DGMCA\n",
    "        time1 = time.time()\n",
    "        Results_sB0 = dgmca(cp.deepcopy(X),n=n_s,mints=3,nmax=100,L0=1,verb=0,Init=0,\\\n",
    "                            BlockSize= None,Kmax=1.,AInit=None,tol=1e-6,subBlockSize=sizeBlock,\\\n",
    "                            SCOpt=1,alphaEstOpt=1,alpha_exp=alpha_init)\n",
    "        # alphaEstOpt can be put to 1 to have a more precise result.\n",
    "        time_DGMCA[it1,it_n] = time.time() - time1\n",
    "        A_sB0 = Results_sB0['mixmat']\n",
    "        S_sB0 = Results_sB0['sources']\n",
    "        crit_sB0 = EvalCriterion_eval(A0,S0,A_sB0,S_sB0) \n",
    "        CA_DGMCA[0,it1,it_n] = crit_sB0['ca_mean']\n",
    "        CA_DGMCA[1,it1,it_n] = crit_sB0['ca_med']\n",
    "        \n",
    "        # ODL (Online Dictionary Learning)\n",
    "        param = { 'K' : n_s, 'lambda1' : 0.03, 'numThreads' : 4, 'batchsize' : sizeBlock,\n",
    "        'iter' : 1000, 'mode' : 0, 'modeD' : 0}\n",
    "        time1 = time.time()\n",
    "        A_ODL = spams.trainDL(X_ODL,**param)\n",
    "        time_ODL[it1,it_n] = time.time() - time1\n",
    "        crit_ODL = EvalCriterion_eval(A0,S0,A_ODL,S0) \n",
    "        CA_ODL[0,it1,it_n] = crit_ODL['ca_mean']\n",
    "        CA_ODL[1,it1,it_n] = crit_ODL['ca_med']     \n",
    "        \n",
    "        try:\n",
    "            # DGMCA naive\n",
    "            time1 = time.time()\n",
    "            A_naive, S_naive = DGMCA_naive(cp.deepcopy(X),n_s,sizeBlock,A0)\n",
    "            time_DGMCA_naive[it1,it_n] = time.time() - time1\n",
    "            crit_naive = EvalCriterion_eval(A0,S0,A_naive,S_naive) \n",
    "            CA_DGMCA_naive[0,it1,it_n] = crit_naive['ca_mean']\n",
    "            CA_DGMCA_naive[1,it1,it_n] = crit_naive['ca_med']\n",
    "        except:\n",
    "            cnt_zeros += 1\n",
    "            pass\n",
    "        \n",
    "        # DGMCA euclidean\n",
    "        time1 = time.time()\n",
    "        Results_euclidean = DGMCA_euclidean(cp.deepcopy(X),n=n_s,mints=3,nmax=100,L0=1,verb=0,Init=0,\\\n",
    "                            BlockSize= None,Kmax=1.,AInit=None,tol=1e-6,subBlockSize=sizeBlock,\\\n",
    "                            SCOpt=1,alphaEstOpt=0,alpha_exp=alpha_init)\n",
    "        time_DGMCA_euclidean[it1,it_n] = time.time() - time1\n",
    "        A_euclidean = Results_euclidean['mixmat']\n",
    "        S_euclidean = Results_euclidean['sources']\n",
    "        crit_euclidean = EvalCriterion_eval(A0,S0,A_euclidean,S_euclidean) \n",
    "        CA_DGMCA_euclidean[0,it1,it_n] = crit_euclidean['ca_mean']\n",
    "        CA_DGMCA_euclidean[1,it1,it_n] = crit_euclidean['ca_med']\n",
    "        \n",
    "        "
   ]
  },
  {
   "cell_type": "code",
   "execution_count": 29,
   "metadata": {},
   "outputs": [],
   "source": [
    "# Some calculations to print afterwards\n",
    "\n",
    "# Time\n",
    "time_GMCA_mean = np.mean(time_GMCA,axis=0)\n",
    "time_GMCA_total = np.sum(time_GMCA, axis=0)\n",
    "\n",
    "time_DGMCA_mean = np.mean(time_DGMCA,axis=1)\n",
    "time_DGMCA_mean = np.mean(time_DGMCA_mean)\n",
    "time_DGMCA_total = np.sum(time_DGMCA,axis=1)\n",
    "time_DGMCA_total = np.sum(time_DGMCA_total)\n",
    "\n",
    "time_ODL_mean = np.mean(time_ODL,axis=1)\n",
    "time_ODL_mean = np.mean(time_ODL_mean)\n",
    "time_ODL_total = np.sum(time_ODL,axis=1)\n",
    "time_ODL_total = np.sum(time_ODL_total)\n",
    "\n",
    "time_DGMCA_naive_mean = np.mean(time_DGMCA_naive,axis=1)\n",
    "time_DGMCA_naive_mean = np.mean(time_DGMCA_naive_mean)\n",
    "time_DGMCA_naive_total = np.sum(time_DGMCA_naive,axis=1)\n",
    "time_DGMCA_naive_total = np.sum(time_DGMCA_naive_total)\n",
    "\n",
    "time_DGMCA_euclidean_mean = np.mean(time_DGMCA_euclidean,axis=1)\n",
    "time_DGMCA_euclidean_mean = np.mean(time_DGMCA_euclidean_mean)\n",
    "time_DGMCA_euclidean_total = np.sum(time_DGMCA_euclidean,axis=1)\n",
    "time_DGMCA_euclidean_total = np.sum(time_DGMCA_euclidean_total)\n",
    "\n",
    "\n",
    "# Results\n",
    "CA_GMCA_mean = np.mean(CA_GMCA,axis=1)\n",
    "CA_DGMCA_mean = np.mean(CA_DGMCA,axis=2)\n",
    "CA_ODL_mean = np.mean(CA_ODL,axis=2)\n",
    "CA_DGMCA_naive_mean = np.mean(CA_DGMCA_naive,axis=2)\n",
    "CA_DGMCA_euclidean_mean = np.mean(CA_DGMCA_euclidean,axis=2)\n",
    "CA_GMCA_med = np.median(CA_GMCA,axis=1)\n",
    "CA_DGMCA_med = np.median(CA_DGMCA,axis=2)\n",
    "CA_ODL_med = np.median(CA_ODL,axis=2)\n",
    "CA_DGMCA_naive_med = np.median(CA_DGMCA_naive,axis=2)\n",
    "CA_DGMCA_euclidean_med = np.median(CA_DGMCA_euclidean,axis=2)\n",
    "\n",
    "dB_CA_GMCA_mean = -10*np.log10(CA_GMCA_mean)\n",
    "dB_CA_DGMCA_mean = -10*np.log10(CA_DGMCA_mean)\n",
    "dB_CA_ODL_mean = -10*np.log10(CA_ODL_mean)\n",
    "dB_CA_DGMCA_naive_mean = -10*np.log10(CA_DGMCA_naive_mean)\n",
    "dB_CA_DGMCA_euclidean_mean = -10*np.log10(CA_DGMCA_euclidean_mean)\n",
    "dB_CA_GMCA_med = -10*np.log10(CA_GMCA_med)\n",
    "dB_CA_DGMCA_med = -10*np.log10(CA_DGMCA_med)\n",
    "dB_CA_ODL_med = -10*np.log10(CA_ODL_med)\n",
    "dB_CA_DGMCA_naive_med = -10*np.log10(CA_DGMCA_naive_med)\n",
    "dB_CA_DGMCA_euclidean_med = -10*np.log10(CA_DGMCA_euclidean_med)\n",
    "\n",
    "\n",
    "# Save variables\n",
    "title_CA_DGMCA = data_path + 'CA_DGMCA' + title_str  \n",
    "np.save(title_CA_DGMCA,CA_DGMCA)\n",
    "title_CA_ODL = data_path + 'CA_ODL' + title_str  \n",
    "np.save(title_CA_ODL,CA_ODL)\n",
    "title_CA_DGMCA_naive = data_path + 'CA_DGMCA_naive' + title_str  \n",
    "np.save(title_CA_DGMCA_naive,CA_DGMCA_naive)\n",
    "title_CA_DGMCA_euclidean = data_path + 'CA_DGMCA_euclidean' + title_str  \n",
    "np.save(title_CA_DGMCA_euclidean,CA_DGMCA_euclidean)\n",
    "title_CA_GMCA = data_path + 'CA_GMCA' + title_str  \n",
    "np.save(title_CA_GMCA,CA_GMCA)"
   ]
  },
  {
   "cell_type": "code",
   "execution_count": 30,
   "metadata": {},
   "outputs": [],
   "source": [
    "# Import\n",
    "ext = '.npy'\n",
    "imp_CA_GMCA = np.load(title_CA_GMCA + ext)\n",
    "imp_CA_DGMCA = np.load(title_CA_DGMCA + ext)\n",
    "imp_CA_ODL = np.load(title_CA_ODL + ext)\n",
    "imp_CA_DGMCA_naive = np.load(title_CA_DGMCA_naive + ext)\n",
    "imp_CA_DGMCA_euclidean = np.load(title_CA_DGMCA_euclidean + ext)\n",
    "\n",
    "# Mean over the experiments\n",
    "imp_CA_GMCA = np.mean(imp_CA_GMCA,axis=1) # Over the batch sizes\n",
    "imp_CA_DGMCA = np.mean(imp_CA_DGMCA,axis=2) # Over the iterations\n",
    "imp_CA_DGMCA_naive = np.mean(imp_CA_DGMCA_naive,axis=2) # Over the iterations\n",
    "imp_CA_DGMCA_euclidean = np.mean(imp_CA_DGMCA_euclidean,axis=2) # Over the iterations\n",
    "imp_CA_ODL = np.mean(imp_CA_ODL,axis=2) # Over the iterations\n",
    "\n",
    "# Median over the experiments\n",
    "#imp_CA_GMCA = np.median(imp_CA_GMCA,axis=1) # Over the batch sizes\n",
    "#imp_CA_DGMCA = np.median(imp_CA_DGMCA,axis=2) # Over the iterations\n",
    "\n",
    "# To dB\n",
    "log_imp_CA_GMCA = -10*np.log10(imp_CA_GMCA)\n",
    "log_imp_CA_DGMCA = -10*np.log10(imp_CA_DGMCA)\n",
    "log_imp_CA_ODL = -10*np.log10(imp_CA_ODL)\n",
    "log_imp_CA_DGMCA_naive = -10*np.log10(imp_CA_DGMCA_naive)\n",
    "log_imp_CA_DGMCA_euclidean = -10*np.log10(imp_CA_DGMCA_euclidean)"
   ]
  },
  {
   "cell_type": "code",
   "execution_count": 34,
   "metadata": {},
   "outputs": [
    {
     "name": "stdout",
     "output_type": "stream",
     "text": [
      "Divisors plotted:\n",
      "[ 10  20  50 100 500]\n"
     ]
    },
    {
     "data": {
      "image/png": "[encoded data removed]",
      "text/plain": [
       "<Figure size 1440x960 with 1 Axes>"
      ]
     },
     "metadata": {},
     "output_type": "display_data"
    }
   ],
   "source": [
    "# Use the mean or the median over the CA \n",
    "type_ca = 0# 0 = CA_mean // 1 = CA_median\n",
    "n_div = len(divisors)\n",
    "lineW = 3\n",
    "markerS = 8\n",
    "\n",
    "print('Divisors plotted:')\n",
    "print(divisors[0:n_div])\n",
    "\n",
    "matplotlib.rcParams.update({'font.size': 32}) # 23\n",
    "fig=plt.figure(figsize=(18, 12), dpi= 80, facecolor='w', edgecolor='k')\n",
    "plt.rc('text', usetex=True)\n",
    "\n",
    "plt.plot(divisors[0:n_div], log_imp_CA_GMCA[type_ca]*np.ones(len(divisors[0:n_div])), '-.',linewidth=3,markersize=2,label=r'GMCA')\n",
    "plt.plot(divisors[0:n_div], log_imp_CA_DGMCA_euclidean[type_ca,0:n_div], '-o',linewidth=lineW,markersize=markerS, label=r'DGMCA euclidean')\n",
    "plt.plot(divisors[1:n_div], log_imp_CA_DGMCA_naive[type_ca,1:n_div], '-o',linewidth=lineW,markersize=markerS, label=r'DGMCA naive')\n",
    "plt.plot(divisors[0:n_div], log_imp_CA_DGMCA[type_ca,0:n_div], '-o',linewidth=lineW,markersize=markerS, label=r'DGMCA')\n",
    "plt.plot(divisors[0:n_div], log_imp_CA_ODL[type_ca,0:n_div], '-o',linewidth=lineW,markersize=markerS, label=r'ODL')\n",
    "\n",
    "plt.xlabel('Mini-batch size')\n",
    "if type_ca == 0:\n",
    "    plt.ylabel(r'$C_{A,mean}(dB)$')\n",
    "elif type_ca == 1:\n",
    "    plt.ylabel(r'$C_{A,med}(dB)$')\n",
    "plt.grid()\n",
    "plt.legend()\n",
    "plt.show()\n",
    "\n",
    "title_str_pdf = plots_path + \"test_snr10_cond10_ns10_nobs_50_ttot_4000_rho05_med\" + \".pdf\"\n",
    "fig.savefig(title_str_pdf, bbox_inches='tight')"
   ]
  },
  {
   "cell_type": "code",
   "execution_count": 32,
   "metadata": {},
   "outputs": [
    {
     "data": {
      "text/plain": [
       "<matplotlib.image.AxesImage at 0x7faaa50c0e90>"
      ]
     },
     "execution_count": 32,
     "metadata": {},
     "output_type": "execute_result"
    },
    {
     "data": {
      "image/png": "[encoded data removed]",
      "text/plain": [
       "<Figure size 432x288 with 1 Axes>"
      ]
     },
     "metadata": {},
     "output_type": "display_data"
    }
   ],
   "source": [
    "plt.imshow(A0)"
   ]
  },
  {
   "cell_type": "code",
   "execution_count": null,
   "metadata": {},
   "outputs": [],
   "source": []
  },
  {
   "cell_type": "code",
   "execution_count": null,
   "metadata": {},
   "outputs": [],
   "source": []
  },
  {
   "cell_type": "code",
   "execution_count": null,
   "metadata": {},
   "outputs": [],
   "source": []
  },
  {
   "cell_type": "code",
   "execution_count": null,
   "metadata": {},
   "outputs": [],
   "source": []
  },
  {
   "cell_type": "code",
   "execution_count": 9,
   "metadata": {},
   "outputs": [],
   "source": [
    "from scipy import special\n",
    "import scipy.linalg as lng"
   ]
  },
  {
   "cell_type": "code",
   "execution_count": 10,
   "metadata": {},
   "outputs": [],
   "source": [
    "def generate_2D_generalized_gaussian(rows, columns, alpha=2):\n",
    "\n",
    "    m = rows\n",
    "    n = columns\n",
    "    r = 0.5 * np.random.random(m * n) + 0.5  # distribution is symmetric\n",
    "    beta = np.sqrt(special.gamma(3.0 / alpha) /\n",
    "                   special.gamma(1.0 / alpha))  # enough to consider r > 0.5\n",
    "    y = r / beta\n",
    "    ymin = 1e-20 * np.ones(m * n)\n",
    "    ymax = 1000 * np.ones(m * n)\n",
    "    # for simplicity, generated r.v. are bounded by 1000.\n",
    "    for iter in range(0, 33):\n",
    "        cdf = 0.5 + 0.5 * special.gammainc(1.0 / alpha, (beta * y) ** alpha)\n",
    "        indplus = np.nonzero(cdf > r)\n",
    "        if len(indplus) > 0:\n",
    "            ymax[indplus] = y[indplus]\n",
    "        indminus = np.nonzero(cdf < r)\n",
    "        if len(indminus) > 0:\n",
    "            ymin[indminus] = y[indminus]\n",
    "        y = 0.5 * (ymax + ymin)\n",
    "    ind = np.nonzero(np.random.random(m * n) > 0.5)\n",
    "    if len(ind) > 0:\n",
    "        y[ind] = -y[ind]\n",
    "    x = y.reshape([n, m]).T.copy()\n",
    "    return x\n"
   ]
  },
  {
   "cell_type": "code",
   "execution_count": 26,
   "metadata": {},
   "outputs": [],
   "source": [
    "def Make_Experiment_GG2(n_s=2,n_obs=2,t_samp=1024,noise_level=40,dynamic=0,CondNumber=1,alpha=2):\n",
    "\n",
    "    S = generate_2D_generalized_gaussian(n_s, t_samp, alpha=alpha)\n",
    "\n",
    "    val = np.power(10,(-np.linspace(1,n_s-1,n_s)/(n_s-1)*dynamic))\n",
    "\n",
    "    A0 = np.random.randn(n_obs,n_s)\n",
    "\n",
    "    if CondNumber == 1:\n",
    "        Uq,Sq,Vq = np.linalg.svd(A0)\n",
    "        A0 = Uq[:,0:n_s]\n",
    "\n",
    "    if CondNumber > 1:\n",
    "        for r in range(10):\n",
    "            Uq,Sq,Vq = np.linalg.svd(A0)\n",
    "            Sq = 1./np.linspace(1,CondNumber,n_s)\n",
    "            A0 = np.dot(Uq[:,0:n_s],np.dot(np.diag(Sq),Vq.T))\n",
    "            A0 = np.dot(A0,np.diag(1./np.sqrt(np.sum(A0*A0,axis=0))))\n",
    "\n",
    "    S0= np.dot(np.diag(1./np.sqrt(np.sum(S*S,axis=1))),S)\n",
    "    S0 = np.dot(np.diag(val),S0)\n",
    "    X0 = np.dot(A0,S0)\n",
    "\n",
    "    N = np.random.randn(n_obs,t_samp)\n",
    "    sigma_noise = np.power(10.,(-noise_level/20.))*np.linalg.norm(X0,ord='fro')/np.linalg.norm(N,ord='fro')\n",
    "    N = sigma_noise*N\n",
    "\n",
    "    X = X0 + N\n",
    "\n",
    "    return X,X0,A0,S0,N"
   ]
  },
  {
   "cell_type": "code",
   "execution_count": 44,
   "metadata": {},
   "outputs": [],
   "source": [
    "X,X0,A0,S0,N = Make_Experiment_GG2(n_s=10,n_obs=20,t_samp=5000,noise_level=10.0,\\\n",
    "                                      dynamic=0,CondNumber=100,alpha=0.3)"
   ]
  },
  {
   "cell_type": "code",
   "execution_count": 45,
   "metadata": {},
   "outputs": [
    {
     "data": {
      "text/plain": [
       "<matplotlib.image.AxesImage at 0x7fb2ac82c190>"
      ]
     },
     "execution_count": 45,
     "metadata": {},
     "output_type": "execute_result"
    },
    {
     "data": {
      "image/png": "[encoded data removed]",
      "text/plain": [
       "<Figure size 432x288 with 1 Axes>"
      ]
     },
     "metadata": {},
     "output_type": "display_data"
    }
   ],
   "source": [
    "plt.imshow(A0)"
   ]
  },
  {
   "cell_type": "code",
   "execution_count": null,
   "metadata": {},
   "outputs": [],
   "source": []
  },
  {
   "cell_type": "code",
   "execution_count": 2,
   "metadata": {},
   "outputs": [
    {
     "ename": "NameError",
     "evalue": "name 'CondNumber' is not defined",
     "output_type": "error",
     "traceback": [
      "\u001b[0;31m---------------------------------------------------------------------------\u001b[0m",
      "\u001b[0;31mNameError\u001b[0m                                 Traceback (most recent call last)",
      "\u001b[0;32m<ipython-input-2-e06ddd5670a1>\u001b[0m in \u001b[0;36m<module>\u001b[0;34m()\u001b[0m\n\u001b[1;32m      3\u001b[0m \u001b[0mA0\u001b[0m \u001b[0;34m=\u001b[0m \u001b[0mnp\u001b[0m\u001b[0;34m.\u001b[0m\u001b[0mrandom\u001b[0m\u001b[0;34m.\u001b[0m\u001b[0mrandn\u001b[0m\u001b[0;34m(\u001b[0m\u001b[0mn_obs\u001b[0m\u001b[0;34m,\u001b[0m\u001b[0mn_s\u001b[0m\u001b[0;34m)\u001b[0m\u001b[0;34m\u001b[0m\u001b[0m\n\u001b[1;32m      4\u001b[0m \u001b[0;34m\u001b[0m\u001b[0m\n\u001b[0;32m----> 5\u001b[0;31m \u001b[0;32mif\u001b[0m \u001b[0mCondNumber\u001b[0m \u001b[0;34m==\u001b[0m \u001b[0;36m1\u001b[0m\u001b[0;34m:\u001b[0m\u001b[0;34m\u001b[0m\u001b[0m\n\u001b[0m\u001b[1;32m      6\u001b[0m     \u001b[0mUq\u001b[0m\u001b[0;34m,\u001b[0m\u001b[0mSq\u001b[0m\u001b[0;34m,\u001b[0m\u001b[0mVq\u001b[0m \u001b[0;34m=\u001b[0m \u001b[0mnp\u001b[0m\u001b[0;34m.\u001b[0m\u001b[0mlinalg\u001b[0m\u001b[0;34m.\u001b[0m\u001b[0msvd\u001b[0m\u001b[0;34m(\u001b[0m\u001b[0mA0\u001b[0m\u001b[0;34m)\u001b[0m\u001b[0;34m\u001b[0m\u001b[0m\n\u001b[1;32m      7\u001b[0m     \u001b[0mA0\u001b[0m \u001b[0;34m=\u001b[0m \u001b[0mUq\u001b[0m\u001b[0;34m[\u001b[0m\u001b[0;34m:\u001b[0m\u001b[0;34m,\u001b[0m\u001b[0;36m0\u001b[0m\u001b[0;34m:\u001b[0m\u001b[0mn_s\u001b[0m\u001b[0;34m]\u001b[0m\u001b[0;34m\u001b[0m\u001b[0m\n",
      "\u001b[0;31mNameError\u001b[0m: name 'CondNumber' is not defined"
     ]
    }
   ],
   "source": [
    "n_obs = 10\n",
    "n_s = 5\n",
    "CondNumber = 1\n",
    "\n",
    "A0 = np.random.randn(n_obs,n_s)\n",
    "\n",
    "if CondNumber == 1:\n",
    "    Uq,Sq,Vq = np.linalg.svd(A0)\n",
    "    A0 = Uq[:,0:n_s]"
   ]
  },
  {
   "cell_type": "code",
   "execution_count": null,
   "metadata": {},
   "outputs": [],
   "source": []
  }
 ],
 "metadata": {
  "kernelspec": {
   "display_name": "Python 2",
   "language": "python",
   "name": "python2"
  },
  "language_info": {
   "codemirror_mode": {
    "name": "ipython",
    "version": 2
   },
   "file_extension": ".py",
   "mimetype": "text/x-python",
   "name": "python",
   "nbconvert_exporter": "python",
   "pygments_lexer": "ipython2",
   "version": "2.7.12"
  }
 },
 "nbformat": 4,
 "nbformat_minor": 2
}
