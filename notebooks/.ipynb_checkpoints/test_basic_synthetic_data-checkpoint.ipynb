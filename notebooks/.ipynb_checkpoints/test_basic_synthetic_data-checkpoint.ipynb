{
 "cells": [
  {
   "cell_type": "markdown",
   "metadata": {},
   "source": [
    "## Test basic Synthetic Data\n",
    "\n",
    "Using the DGMCA code with a realistic dataset and comparing its performance with the original GMCA.\n",
    "\n",
    "- The data used for the simulation is sent upon request.\n",
    "- Results are stored in *data_path*\n",
    "- Input data generated is stored in *input_data_path*\n",
    "- Plots are saved in *plots_path*"
   ]
  },
  {
   "cell_type": "code",
   "execution_count": 2,
   "metadata": {},
   "outputs": [],
   "source": [
    "import sys\n",
    "sys.path.append('../')\n",
    "import numpy as np\n",
    "import matplotlib.pyplot as plt\n",
    "import matplotlib\n",
    "import scipy.io as spio\n",
    "from src.utils2 import divisorGenerator\n",
    "from src.utils2 import Make_Experiment_GG\n",
    "from src.misc_bgmca2 import *\n",
    "from src.DGMCA import DGMCA as dgmca\n",
    "from src.GMCA import GMCA as gmca\n",
    "from src.data_input_preparation import data_input_preparation\n",
    "import copy as cp\n",
    "from tqdm import tqdm\n",
    "import time"
   ]
  },
  {
   "cell_type": "markdown",
   "metadata": {},
   "source": [
    "### Variable definitions"
   ]
  },
  {
   "cell_type": "code",
   "execution_count": 3,
   "metadata": {},
   "outputs": [],
   "source": [
    "input_data_path = '../files/input_data/'\n",
    "data_path = '../files/data/'\n",
    "plots_path = '../files/plots/'\n",
    "\n",
    "Jdec = 2\n",
    "dec_factor = 16\n",
    "batch_size = 2048\n",
    "n_s = 5 # Number of sources\n",
    "n_obs = 250 # Number of observations\n",
    "SNR_level = 60.0\n",
    "normOpt = 1\n",
    "alpha_init = 2. # Alpha parameter for the thresholding strategy\n",
    "numIts = 1\n",
    "\n",
    "CA_DGMCA = np.zeros([2,numIts])\n",
    "CA_GMCA = np.zeros([2,numIts])\n",
    "time_GMCA = np.zeros([numIts])\n",
    "time_DGMCA = np.zeros([numIts])"
   ]
  },
  {
   "cell_type": "markdown",
   "metadata": {},
   "source": [
    "### Data preparation "
   ]
  },
  {
   "cell_type": "code",
   "execution_count": 4,
   "metadata": {},
   "outputs": [],
   "source": [
    "# If the data has already been generate we just import it\n",
    "data_save_string = data_path + 'dataGMCA_decf' + str(dec_factor) + '_J_' + str(Jdec) + \\\n",
    "    '_norm_' + str(normOpt) + '_bsize_' + str(batch_size) + '_nobs_' + str(n_obs) + '.mat'\n",
    "import os.path\n",
    "if os.path.exists(data_save_string):\n",
    "    # Import\n",
    "    data_DGMCA = spio.loadmat(data_save_string)\n",
    "    # Extract the variables\n",
    "    X = data_DGMCA['X']\n",
    "    A0 = data_DGMCA['A0']\n",
    "    S0 = data_DGMCA['S0']\n",
    "    X_GMCA = data_DGMCA['X_GMCA']\n",
    "    S0_GMCA = data_DGMCA['S0_GMCA']\n",
    "    sizeBlock = data_DGMCA['batch_size'][0,0].astype(int)\n",
    "    n_s = data_DGMCA['n_s'][0,0]\n",
    "    WNFactors = data_DGMCA['WNFactors'][0]\n",
    "    X0_GMCA = data_DGMCA['X0']\n",
    "    normOpt = data_DGMCA['normOpt']\n",
    "    line_id = data_DGMCA['line_id'][0]\n",
    "    r_id = data_DGMCA['r_id']\n",
    "    totalSize = X.shape[1]     \n",
    "    \n",
    "else:\n",
    "    data_DGMCA = data_input_preparation(Jdec=Jdec, dec_factor=dec_factor, batch_size=batch_size, n_obs=n_obs, \\\n",
    "                SNR_level=SNR_level, normOpt=normOpt, input_data_path=input_data_path, output_data_path=data_path)\n",
    "    # Extract the variables\n",
    "    X = data_DGMCA['X']\n",
    "    A0 = data_DGMCA['A0']\n",
    "    S0 = data_DGMCA['S0']\n",
    "    X_GMCA = data_DGMCA['X_GMCA']\n",
    "    S0_GMCA = data_DGMCA['S0_GMCA']\n",
    "    sizeBlock = data_DGMCA['batch_size']\n",
    "    n_s = data_DGMCA['n_s']\n",
    "    WNFactors = data_DGMCA['WNFactors']\n",
    "    X0_GMCA = data_DGMCA['X0']\n",
    "    normOpt = data_DGMCA['normOpt']\n",
    "    line_id = data_DGMCA['line_id']\n",
    "    r_id = data_DGMCA['r_id']\n",
    "    totalSize = X.shape[1] "
   ]
  },
  {
   "cell_type": "code",
   "execution_count": 7,
   "metadata": {},
   "outputs": [
    {
     "name": "stdout",
     "output_type": "stream",
     "text": [
      "(5, 16384)\n",
      "(10,)\n",
      "(2, 2, 9)\n"
     ]
    }
   ],
   "source": [
    "#line_id = data_DGMCA['line_id']\n",
    "#r_id = data_DGMCA['r_id']\n",
    "\n",
    "print S0.shape\n",
    "print line_id.shape\n",
    "print r_id.shape"
   ]
  },
  {
   "cell_type": "code",
   "execution_count": 8,
   "metadata": {},
   "outputs": [
    {
     "name": "stdout",
     "output_type": "stream",
     "text": [
      "*******************************************\n",
      "totalSize: 128\n",
      "numIts: 1\n",
      "alpha_init: 2.0\n",
      "n_s: 5\n",
      "n_obs: 250\n",
      "*******************************************\n",
      "Test saving name:\n",
      "test_basic_synthetic_data_totalSize_128_batch_size_2048_n_obs_250_n_s_5_Jdec_2_numIts_1\n",
      "*******************************************\n"
     ]
    }
   ],
   "source": [
    "print('*******************************************')\n",
    "print('totalSize: ' + str(totalSize))\n",
    "print('numIts: ' + str(numIts))\n",
    "print('alpha_init: ' + str(alpha_init))\n",
    "print('n_s: ' + str(n_s))\n",
    "print('n_obs: ' + str(n_obs))\n",
    "print('*******************************************')\n",
    "\n",
    "title_str = \"test_basic_synthetic_data\" + \"_totalSize_\" + str(totalSize) + \"_batch_size_\" + str(batch_size)+ \"_n_obs_\" + str(n_obs) \\\n",
    "    + \"_n_s_\" + str(n_s) + '_Jdec_' + str(Jdec) + \"_numIts_\" + str(numIts)\n",
    "print(\"Test saving name:\")\n",
    "print(title_str)\n",
    "print('*******************************************')\n"
   ]
  },
  {
   "cell_type": "markdown",
   "metadata": {},
   "source": [
    "### Main loop"
   ]
  },
  {
   "cell_type": "code",
   "execution_count": null,
   "metadata": {},
   "outputs": [
    {
     "name": "stderr",
     "output_type": "stream",
     "text": [
      "\r",
      "  0%|          | 0/1 [00:00<?, ?it/s]"
     ]
    }
   ],
   "source": [
    "for it_n in tqdm(range(numIts)):\n",
    "\n",
    "    # X,X0,A0,S0,N = Make_Experiment_GG(n_s=n_s,n_obs=n_obs,t_samp=totalSize,noise_level=60.0,\\\n",
    "    #                                   dynamic=0,CondNumber=1,alpha=rho)\n",
    "    time1 = time.time()\n",
    "    Results_sB_totSC = gmca(X_GMCA,n=n_s,maxts = 7,mints=3,nmax=100,L0=1,UseP=1,verb=0,Init=0,\\\n",
    "                Aposit=False,BlockSize= None,NoiseStd=[],IndNoise=[],Kmax=1.,AInit=None,tol=1e-6,threshOpt=1\\\n",
    "                ,SCOpt=1)\n",
    "    time_GMCA[it_n] = time.time() - time1\n",
    "    A_sB_totSC = Results_sB_totSC['mixmat']\n",
    "    S_sB_totSC = Results_sB_totSC['sources']\n",
    "    crit_sB_totSC = EvalCriterion_eval(A0,S0_GMCA,A_sB_totSC,S_sB_totSC) \n",
    "    CA_GMCA[0,it_n] = crit_sB_totSC['ca_mean']\n",
    "    CA_GMCA[1,it_n] = crit_sB_totSC['ca_med']\n",
    "\n",
    "\n",
    "    time1 = time.time()\n",
    "    Results_sB0 = dgmca(X,n=n_s,mints=3,nmax=100,L0=1,verb=0,Init=0,BlockSize= None,Kmax=1.,AInit=None,tol=1e-6,\\\n",
    "    \t\tsubBlockSize=sizeBlock, SCOpt=1,alphaEstOpt=1,alpha_exp=alpha_init, J=Jdec,WNFactors=WNFactors,normOpt=normOpt)\n",
    "    time_DGMCA[it_n] = time.time() - time1\n",
    "    A_sB0 = Results_sB0['mixmat']\n",
    "    S_sB0 = Results_sB0['sources']\n",
    "    crit_sB0 = EvalCriterion_eval(A0,S0_GMCA,A_sB0,S_sB0) \n",
    "    CA_DGMCA[0,it_n] = crit_sB0['ca_mean']\n",
    "    CA_DGMCA[1,it_n] = crit_sB0['ca_med']"
   ]
  },
  {
   "cell_type": "markdown",
   "metadata": {},
   "source": [
    "### Preparing the results"
   ]
  },
  {
   "cell_type": "code",
   "execution_count": null,
   "metadata": {},
   "outputs": [],
   "source": [
    "# Some calculations to print afterwards\n",
    "time_GMCA_mean = np.mean(time_GMCA,axis=0)\n",
    "time_GMCA_total = np.sum(time_GMCA, axis=0)\n",
    "\n",
    "time_DGMCA_mean = np.mean(time_DGMCA,axis=0)\n",
    "time_DGMCA_total = np.sum(time_DGMCA, axis=0)\n",
    "\n",
    "CA_GMCA_mean = np.mean(CA_GMCA,axis=1)\n",
    "CA_DGMCA_mean = np.mean(CA_DGMCA,axis=1)\n",
    "CA_GMCA_med = np.median(CA_GMCA,axis=1)\n",
    "CA_DGMCA_med = np.median(CA_DGMCA,axis=1)\n",
    "\n",
    "dB_CA_GMCA_mean = -10*np.log10(CA_GMCA_mean)\n",
    "dB_CA_DGMCA_mean = -10*np.log10(CA_DGMCA_mean)\n",
    "dB_CA_GMCA_med = -10*np.log10(CA_GMCA_med)\n",
    "dB_CA_DGMCA_med = -10*np.log10(CA_DGMCA_med)"
   ]
  },
  {
   "cell_type": "markdown",
   "metadata": {},
   "source": [
    "### Printing results"
   ]
  },
  {
   "cell_type": "code",
   "execution_count": null,
   "metadata": {},
   "outputs": [],
   "source": [
    "# Printing the results nicely\n",
    "print(' ')\n",
    "print('******************* Results ************************')\n",
    "print('GMCA [CA(dB)]            / DGMCA [CA(dB)]')\n",
    "print('GMCA mean time:  %f  / DGMCA mean time:  %f'%(time_GMCA_mean,time_DGMCA_mean))\n",
    "print('GMCA total time: %f  / DGMCA total time: %f'%(time_GMCA_total,time_DGMCA_total))\n",
    "print(' ')\n",
    "print('**************** MEAN of experiments ***************************')\n",
    "print('Total size = %d, CA_GMCA(med) = %f,  CA_GMCA(mean) = %f ;'%(totalSize,dB_CA_GMCA_mean[1],dB_CA_GMCA_mean[0]))\n",
    "print('*******************************************')\n",
    "print('Batch size = %d, CA_DGMCA(med) = %f,  CA_DGMCA(mean) = %f ;'%(batch_size,dB_CA_DGMCA_mean[1],dB_CA_DGMCA_mean[0]))\n",
    "print('*******************************************')\n",
    "print(' ')\n",
    "print('**************** MEDIAN of experiments ***************************')\n",
    "print('Total size = %d, CA_GMCA(med) = %f,  CA_GMCA(mean) = %f ;'%(totalSize,dB_CA_GMCA_med[1],dB_CA_GMCA_med[0]))\n",
    "print('*******************************************')\n",
    "print('Batch size = %d, CA_DGMCA(med) = %f,  CA_DGMCA(mean) = %f ;'%(batch_size,dB_CA_DGMCA_med[1],dB_CA_DGMCA_med[0]))\n",
    "print('*******************************************')\n",
    "print(' ')\n"
   ]
  },
  {
   "cell_type": "markdown",
   "metadata": {},
   "source": [
    "### Saving variables"
   ]
  },
  {
   "cell_type": "code",
   "execution_count": null,
   "metadata": {},
   "outputs": [],
   "source": [
    "# Save variables\n",
    "title_CA_DGMCA = data_path + 'CA_DGMCA' + title_str  \n",
    "np.save(title_CA_DGMCA,CA_DGMCA)\n",
    "title_CA_GMCA = data_path + 'CA_GMCA' + title_str  \n",
    "np.save(title_CA_GMCA,CA_GMCA)\n"
   ]
  },
  {
   "cell_type": "markdown",
   "metadata": {},
   "source": [
    "# Plot results nicely"
   ]
  },
  {
   "cell_type": "markdown",
   "metadata": {},
   "source": [
    "### Full quality input image "
   ]
  },
  {
   "cell_type": "code",
   "execution_count": null,
   "metadata": {},
   "outputs": [],
   "source": [
    "sim_path = input_data_path + 'SyntheticAstroData.mat'\n",
    "imp_data = spio.loadmat(sim_path)\n",
    "A_big = imp_data[',mixmat']\n",
    "S_big = imp_data['sources']\n",
    "\n",
    "matplotlib.rcParams.update({'font.size': 18})\n",
    "fig, ax = plt.subplots(3, 2, figsize=(16, 14), dpi= 80, facecolor='w', edgecolor='k')\n",
    "plt.rc('text', usetex=True)\n",
    "\n",
    "for it in range(n_s):\n",
    "\n",
    "    ax[it/2,it%2].imshow(S_big[it,:,:],cmap='gray')\n",
    "    ax[it/2,it%2].set_xlabel('X')\n",
    "    ax[it/2,it%2].set_ylabel('Y')\n",
    "    ax[it/2,it%2].set_title(r\"Full quality Source N :\" + str(it))\n",
    "    \n",
    "ax[2,1].set_visible(False)\n",
    "\n",
    "fig.tight_layout()\n",
    "plt.show()"
   ]
  },
  {
   "cell_type": "markdown",
   "metadata": {},
   "source": [
    "### Input images"
   ]
  },
  {
   "cell_type": "code",
   "execution_count": null,
   "metadata": {},
   "outputs": [],
   "source": [
    "output_imgs = Results_sB0['images']\n",
    "\n",
    "S0_2D = np.zeros([output_imgs.shape[0],output_imgs.shape[1],S0.shape[0]])\n",
    "\n",
    "for it in range(S0.shape[0]):\n",
    "    S0_2D[:,:,it] = recoverDecImg(S0[it,:],r_id,line_id)\n",
    "    \n",
    "\n",
    "matplotlib.rcParams.update({'font.size': 18})\n",
    "fig, ax = plt.subplots(3, 2, figsize=(16, 14), dpi= 80, facecolor='w', edgecolor='k')\n",
    "plt.rc('text', usetex=True)\n",
    "\n",
    "for it in range(n_s):\n",
    "\n",
    "    ax[it/2,it%2].imshow(S0_2D[:,:,it],cmap='gray')\n",
    "    ax[it/2,it%2].set_xlabel('X')\n",
    "    ax[it/2,it%2].set_ylabel('Y')\n",
    "    ax[it/2,it%2].set_title(r\"Input Source N :\" + str(it))\n",
    "    \n",
    "ax[2,1].set_visible(False)\n",
    "\n",
    "fig.tight_layout()\n",
    "plt.show()"
   ]
  },
  {
   "cell_type": "markdown",
   "metadata": {},
   "source": [
    "### Output images\n",
    "The reconstruction is done very basicly, just inverting the estimated mixing matrix A and multiplying it with the observation matrix X. This reconstruction is very succestible to noise."
   ]
  },
  {
   "cell_type": "code",
   "execution_count": null,
   "metadata": {},
   "outputs": [],
   "source": [
    "matplotlib.rcParams.update({'font.size': 18})\n",
    "fig, ax = plt.subplots(3, 2, figsize=(16, 14), dpi= 80, facecolor='w', edgecolor='k')\n",
    "plt.rc('text', usetex=True)\n",
    "\n",
    "for it in range(n_s):\n",
    "\n",
    "    ax[it/2,it%2].imshow(output_imgs[:,:,it],cmap='gray')\n",
    "    ax[it/2,it%2].set_xlabel('X')\n",
    "    ax[it/2,it%2].set_ylabel('Y')\n",
    "    ax[it/2,it%2].set_title(r\"Reconstructed Source N :\" + str(it))\n",
    "    \n",
    "ax[2,1].set_visible(False)\n",
    "\n",
    "fig.tight_layout()\n",
    "plt.show()\n"
   ]
  },
  {
   "cell_type": "code",
   "execution_count": null,
   "metadata": {},
   "outputs": [],
   "source": []
  },
  {
   "cell_type": "code",
   "execution_count": null,
   "metadata": {},
   "outputs": [],
   "source": []
  }
 ],
 "metadata": {
  "kernelspec": {
   "display_name": "Python 2",
   "language": "python",
   "name": "python2"
  },
  "language_info": {
   "codemirror_mode": {
    "name": "ipython",
    "version": 2
   },
   "file_extension": ".py",
   "mimetype": "text/x-python",
   "name": "python",
   "nbconvert_exporter": "python",
   "pygments_lexer": "ipython2",
   "version": "2.7.12"
  }
 },
 "nbformat": 4,
 "nbformat_minor": 2
}
